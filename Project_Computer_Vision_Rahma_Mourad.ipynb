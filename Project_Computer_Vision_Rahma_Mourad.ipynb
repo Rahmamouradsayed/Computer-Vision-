{
  "nbformat": 4,
  "nbformat_minor": 0,
  "metadata": {
    "colab": {
      "private_outputs": true,
      "provenance": [],
      "include_colab_link": true
    },
    "kernelspec": {
      "name": "python3",
      "display_name": "Python 3"
    },
    "language_info": {
      "name": "python"
    }
  },
  "cells": [
    {
      "cell_type": "markdown",
      "metadata": {
        "id": "view-in-github",
        "colab_type": "text"
      },
      "source": [
        "<a href=\"https://colab.research.google.com/github/Rahmamouradsayed/Computer-Vision-/blob/main/Project_Computer_Vision_Rahma_Mourad.ipynb\" target=\"_parent\"><img src=\"https://colab.research.google.com/assets/colab-badge.svg\" alt=\"Open In Colab\"/></a>"
      ]
    },
    {
      "cell_type": "code",
      "execution_count": null,
      "metadata": {
        "id": "x-LqhWjYEQD3"
      },
      "outputs": [],
      "source": [
        "!pip install torch torchvision torchaudio opencv-python numpy\n",
        "!apt install ffmpeg -y"
      ]
    },
    {
      "cell_type": "code",
      "source": [
        "from google.colab import files\n",
        "uploaded = files.upload()  #input_video.mp4"
      ],
      "metadata": {
        "id": "YKlc2_bbLoB6"
      },
      "execution_count": null,
      "outputs": []
    },
    {
      "cell_type": "code",
      "source": [
        "import cv2\n",
        "import torch\n",
        "import numpy as np\n",
        "from collections import deque\n",
        "\n",
        "# Load YOLOv5s model\n",
        "model = torch.hub.load('ultralytics/yolov5', 'yolov5s', pretrained=True)\n",
        "model.conf = 0.4\n",
        "model.classes = [0]  # Detect only persons\n",
        "\n",
        "# Initialize tracking paths\n",
        "paths = {}\n",
        "max_len = 50\n",
        "colors = [(0, 0, 255), (0, 255, 0), (255, 0, 0)]  # Red, Green, Blue\n",
        "\n",
        "# Load input video\n",
        "cap = cv2.VideoCapture(\"/content/input.mp4\")\n",
        "frame_width = int(cap.get(3))\n",
        "frame_height = int(cap.get(4))\n",
        "fps = cap.get(cv2.CAP_PROP_FPS)\n",
        "if fps == 0:\n",
        "    fps = 25  # Fallback default FPS\n",
        "\n",
        "# Define video writer for output\n",
        "out = cv2.VideoWriter('output_tracked.mp4',\n",
        "                      cv2.VideoWriter_fourcc(*'mp4v'),\n",
        "                      fps,\n",
        "                      (frame_width, frame_height))\n",
        "\n",
        "person_ids = []\n",
        "\n",
        "while cap.isOpened():\n",
        "    ret, frame = cap.read()\n",
        "    if not ret:\n",
        "        break\n",
        "\n",
        "    # Run YOLO detection\n",
        "    results = model(frame)\n",
        "    detections = results.xyxy[0].cpu().numpy()\n",
        "\n",
        "    current_centroids = []\n",
        "\n",
        "    for det in detections:\n",
        "        x1, y1, x2, y2, conf, cls = det\n",
        "        cx, cy = int((x1 + x2) / 2), int((y1 + y2) / 2)\n",
        "\n",
        "        # Register the first 3 person IDs\n",
        "        if len(person_ids) < 3:\n",
        "            person_ids.append(len(person_ids))\n",
        "            paths[person_ids[-1]] = deque(maxlen=max_len)\n",
        "\n",
        "        # Track only the first 3 people\n",
        "        pid = len(current_centroids)\n",
        "        if pid >= 3:\n",
        "            continue\n",
        "\n",
        "        current_centroids.append((cx, cy))\n",
        "        paths[pid].append((cx, cy))\n",
        "\n",
        "        # Draw bounding box and label\n",
        "        cv2.rectangle(frame, (int(x1), int(y1)), (int(x2), int(y2)), colors[pid], 2)\n",
        "        cv2.putText(frame, f'Person {pid}', (int(x1), int(y1)-10),\n",
        "                    cv2.FONT_HERSHEY_SIMPLEX, 0.6, colors[pid], 2)\n",
        "\n",
        "    # Draw movement trails\n",
        "    for pid, pts in paths.items():\n",
        "        for i in range(1, len(pts)):\n",
        "            cv2.line(frame, pts[i - 1], pts[i], colors[pid], 3)\n",
        "\n",
        "    out.write(frame)\n",
        "\n",
        "cap.release()\n",
        "out.release()\n"
      ],
      "metadata": {
        "id": "6JmBy-dELqxq"
      },
      "execution_count": null,
      "outputs": []
    },
    {
      "cell_type": "code",
      "source": [
        "!ffmpeg -i output_tracked.mp4 -vcodec libx264 -crf 23 output_compressed.mp4\n"
      ],
      "metadata": {
        "id": "NHXUfH0fLsbC"
      },
      "execution_count": null,
      "outputs": []
    },
    {
      "cell_type": "code",
      "source": [
        "from IPython.display import HTML\n",
        "from base64 import b64encode\n",
        "\n",
        "mp4 = open('output_compressed.mp4','rb').read()\n",
        "data_url = \"data:video/mp4;base64,\" + b64encode(mp4).decode()\n",
        "\n",
        "HTML(f\"\"\"\n",
        "<video width=720 controls>\n",
        "    <source src=\"{data_url}\" type=\"video/mp4\">\n",
        "</video>\n",
        "\"\"\")\n"
      ],
      "metadata": {
        "id": "Hc3MLk53LtBv"
      },
      "execution_count": null,
      "outputs": []
    }
  ]
}